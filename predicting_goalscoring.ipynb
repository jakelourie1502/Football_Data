{
 "metadata": {
  "language_info": {
   "codemirror_mode": {
    "name": "ipython",
    "version": 3
   },
   "file_extension": ".py",
   "mimetype": "text/x-python",
   "name": "python",
   "nbconvert_exporter": "python",
   "pygments_lexer": "ipython3",
   "version": "3.9"
  },
  "orig_nbformat": 2,
  "kernelspec": {
   "name": "pythonjvsc74a57bd0ae44bc0eae4a697e13956773fab0a10687b55ffe583901dc88e01866ea6f570f",
   "display_name": "Python 3.9  ('base': conda)"
  },
  "metadata": {
   "interpreter": {
    "hash": "ae44bc0eae4a697e13956773fab0a10687b55ffe583901dc88e01866ea6f570f"
   }
  }
 },
 "nbformat": 4,
 "nbformat_minor": 2,
 "cells": [
  {
   "source": [
    "## Predicting goalscoring based on previous performance\n",
    "\n",
    "Output stats\n",
    "\n",
    "1- Goals \n",
    "\n",
    "Input stats\n",
    "\n",
    "2- Prev. year goals \n",
    "\n",
    "3- prev. year xG \n",
    "\n",
    "4- prev. year team goals\n",
    "\n",
    "5- prev. year team xG \n",
    "\n",
    "6- Player age.\n",
    "\n",
    "7- Player position.\n",
    "\n",
    "8 - did they change club?\n",
    "\n",
    "9 - did they change league (if so, which) can we rank the leagues in some way\n"
   ],
   "cell_type": "markdown",
   "metadata": {}
  },
  {
   "cell_type": "code",
   "execution_count": 1,
   "metadata": {},
   "outputs": [],
   "source": [
    "import numpy as np \n",
    "import pandas as pd \n",
    "import plotly\n",
    "from plotly import graph_objects as GO\n",
    "import os \n"
   ]
  },
  {
   "source": [
    "## Loading the data"
   ],
   "cell_type": "markdown",
   "metadata": {}
  },
  {
   "cell_type": "code",
   "execution_count": null,
   "metadata": {},
   "outputs": [],
   "source": [
    "#create blank data_frame with necessary columns\n",
    "column_names = pd.read_csv('Project_data/player_stats/Bundesliga_2014').columns\n",
    "df = pd.DataFrame(columns=column_names)\n",
    "#get all the files in the folder and extract the league and year from them\n",
    "for file_suffix in os.listdir('Project_data/player_stats'):\n",
    "    len_of_file = len(file_suffix)\n",
    "    year = file_suffix[-4:]\n",
    "    league = file_suffix[:len_of_file-5]\n",
    "    df_temp = pd.read_csv(f'Project_data/player_stats/{file_suffix}')\n",
    "    df_temp['league'] = league\n",
    "    df_temp['year'] = year\n",
    "    df=df.append(df_temp)\n",
    "df = df.reset_index().drop(columns='Unnamed: 0')\n",
    "df = df.drop(columns='index')"
   ]
  },
  {
   "source": [
    "## Data cleaning and combining\n",
    "\n",
    "We need to append \"Last Year stats\" for each player"
   ],
   "cell_type": "markdown",
   "metadata": {}
  },
  {
   "cell_type": "code",
   "execution_count": 30,
   "metadata": {},
   "outputs": [],
   "source": [
    "#create a dictionary to reference that shows each of the 'previous year values\n",
    "last_year_dictionary = {\n",
    "    '2015':'2014',\n",
    "    '2016':'2015',\n",
    "    '2017':'2016',\n",
    "    '2018':'2017',\n",
    "    '2019': '2018',\n",
    "    '2020': '2019'\n",
    "}\n",
    "#Create blank rows\n",
    "df[['npg_LY','xG_LY','npxG_LY']] = \"\"\n"
   ]
  },
  {
   "cell_type": "code",
   "execution_count": 236,
   "metadata": {},
   "outputs": [],
   "source": [
    "#iterate over the length of the df, and add the previous years metrics.\n",
    "for i in range(len(df)):\n",
    "    if df.iloc[i]['year'] != '2014':\n",
    "        year = df.loc[i]['year']\n",
    "        id = df.loc[i]['id']\n",
    "        try:\n",
    "            df.iloc[i,21] = np.float(df.loc[(df['id'] == id) & (df['year'] == last_year_dictionary[year])]['goals'])\n",
    "            df.iloc[i,22] = np.float(df.loc[(df['id'] == id) & (df['year'] == last_year_dictionary[year])]['npg'])\n",
    "            df.iloc[i,23] = np.float(df.loc[(df['id'] == id) & (df['year'] == last_year_dictionary[year])]['xG'])\n",
    "            df.iloc[i,24] = np.float(df.loc[(df['id'] == id) & (df['year'] == last_year_dictionary[year])]['npxG'])\n",
    "        except:\n",
    "            continue\n",
    "        counter +=1 "
   ]
  },
  {
   "cell_type": "code",
   "execution_count": 228,
   "metadata": {},
   "outputs": [],
   "source": [
    "#Make sure we have all the new columns as floats\n",
    "df[\"npg_LY\"] = pd.to_numeric(df[\"npg_LY\"], downcast=\"float\")\n",
    "df[\"xG_LY\"] = pd.to_numeric(df[\"xG_LY\"], downcast=\"float\")\n",
    "df[\"npxG_LY\"] = pd.to_numeric(df[\"npxG_LY\"], downcast=\"float\")"
   ]
  },
  {
   "source": [
    "We have a couple of small issues.\n",
    "\n",
    "1) The French league finished prematurely in 2019 (28 games)\n",
    "\n",
    "2) The German league only has 34 games, compared to 38 for the other season.\n",
    "\n",
    "To fix this, we will normalise all seasons to a 38 game season. This will help us if we have players transferring from the German league, too."
   ],
   "cell_type": "markdown",
   "metadata": {}
  },
  {
   "cell_type": "code",
   "execution_count": 305,
   "metadata": {},
   "outputs": [],
   "source": [
    "#Create a function which creates a normalising constant for each league\n",
    "def multiplier_code(league):\n",
    "    if league.startswith('Bundesliga'):\n",
    "        return 38/34\n",
    "    elif league == 'Ligue 1_2019':\n",
    "        return 38/28\n",
    "    else:\n",
    "        return 1\n",
    "#Create a league_year column\n",
    "df['league_year'] = df['league'] + '_' + df['year']\n",
    "#call the function on league_year and produce a column with norm constant\n",
    "df['normalise_constant'] = df['league_year'].apply(multiplier_code)\n"
   ]
  },
  {
   "cell_type": "code",
   "execution_count": 307,
   "metadata": {},
   "outputs": [],
   "source": [
    "normalisable_columns = ['goals','xG','assists','xA','shots','key_passes','yellow_cards', 'red_cards','npg', 'npxG', 'xGChain', 'xGBuildup','goals_LY', 'npg_LY', 'xG_LY', 'npxG_LY']\n",
    "#now multiply the values in the relevant columns by the normalising constant for that league.\n",
    "for col in normalisable_columns:\n",
    "    df[f'{col}_norm'] = df[col] * df['normalise_constant']"
   ]
  },
  {
   "cell_type": "code",
   "execution_count": null,
   "metadata": {},
   "outputs": [],
   "source": []
  }
 ]
}