{
 "metadata": {
  "language_info": {
   "codemirror_mode": {
    "name": "ipython",
    "version": 3
   },
   "file_extension": ".py",
   "mimetype": "text/x-python",
   "name": "python",
   "nbconvert_exporter": "python",
   "pygments_lexer": "ipython3",
   "version": "3.9"
  },
  "orig_nbformat": 2,
  "kernelspec": {
   "name": "pythonjvsc74a57bd0ae44bc0eae4a697e13956773fab0a10687b55ffe583901dc88e01866ea6f570f",
   "display_name": "Python 3.9  ('base': conda)"
  },
  "metadata": {
   "interpreter": {
    "hash": "ae44bc0eae4a697e13956773fab0a10687b55ffe583901dc88e01866ea6f570f"
   }
  }
 },
 "nbformat": 4,
 "nbformat_minor": 2,
 "cells": [
  {
   "source": [
    "## Data Exploration of Understat data"
   ],
   "cell_type": "markdown",
   "metadata": {}
  },
  {
   "cell_type": "code",
   "execution_count": 9,
   "metadata": {},
   "outputs": [],
   "source": [
    "import pandas as pd\n",
    "import numpy as np\n",
    "import plotly\n",
    "import plotly.express as px\n",
    "import os\n"
   ]
  },
  {
   "cell_type": "code",
   "execution_count": 28,
   "metadata": {},
   "outputs": [],
   "source": [
    "#Let's read the data in in one big table\n",
    "df_list = []\n",
    "for file in os.listdir('Project_data/league_tables'):\n",
    "    df_temp = pd.read_csv(f'Project_data/league_tables/{file}')\n",
    "    df_list.append(df_temp)\n",
    "df = pd.concat(df for df in df_list).set_index('position')"
   ]
  },
  {
   "cell_type": "code",
   "execution_count": 29,
   "metadata": {},
   "outputs": [
    {
     "output_type": "execute_result",
     "data": {
      "text/plain": [
       "                     Team  matches  wins  draws  loses  scored  conceded  \\\n",
       "position                                                                   \n",
       "1             Real Madrid       38  29.0    6.0    3.0   106.0      41.0   \n",
       "2               Barcelona       38  28.0    6.0    4.0   116.0      37.0   \n",
       "3         Atletico Madrid       38  23.0    9.0    6.0    70.0      27.0   \n",
       "4                 Sevilla       38  21.0    9.0    8.0    69.0      49.0   \n",
       "5              Villarreal       38  19.0   10.0    9.0    56.0      33.0   \n",
       "...                   ...      ...   ...    ...    ...     ...       ...   \n",
       "14          VfB Stuttgart       34   9.0    9.0   16.0    42.0      60.0   \n",
       "15          Hertha Berlin       34   9.0    8.0   17.0    36.0      52.0   \n",
       "16           Hamburger SV       34   9.0    8.0   17.0    25.0      50.0   \n",
       "17               Freiburg       34   7.0   13.0   14.0    36.0      47.0   \n",
       "18              Paderborn       34   7.0   10.0   17.0    31.0      65.0   \n",
       "\n",
       "           pts         xG       npxG  ...      npxGD  ppda_coef  oppda_coef  \\\n",
       "position                              ...                                     \n",
       "1         93.0  90.866410  84.920340  ...  51.030512   9.742439   13.407533   \n",
       "2         90.0  93.551594  86.862234  ...  55.546571   6.702330   15.710111   \n",
       "3         78.0  60.658900  54.532810  ...  26.169233   9.954444    8.828843   \n",
       "4         72.0  59.094825  55.270584  ...  20.400488   6.979835   10.788850   \n",
       "5         67.0  52.228737  46.282513  ...   7.577777  11.527583   10.592704   \n",
       "...        ...        ...        ...  ...        ...        ...         ...   \n",
       "14        36.0  45.639776  44.882003  ...  -0.186879  10.032086    9.610372   \n",
       "15        35.0  32.656432  29.625334  ... -14.299616  11.585389    6.815631   \n",
       "16        35.0  32.859179  30.585841  ... -19.181601   8.405638    7.317977   \n",
       "17        34.0  38.688021  31.868182  ... -12.526945  13.476949    8.307599   \n",
       "18        31.0  36.079765  35.321988  ... -15.144018  11.719608    6.643987   \n",
       "\n",
       "           deep  deep_allowed     xpts    GD  position.1      league  year  \n",
       "position                                                                    \n",
       "1         333.0         173.0  86.1701  65.0           1     La_liga  2016  \n",
       "2         552.0         144.0  87.9535  79.0           2     La_liga  2016  \n",
       "3         265.0         168.0  69.1021  43.0           3     La_liga  2016  \n",
       "4         338.0         201.0  66.1788  20.0           4     La_liga  2016  \n",
       "5         268.0         260.0  59.5719  23.0           5     La_liga  2016  \n",
       "...         ...           ...      ...   ...         ...         ...   ...  \n",
       "14        143.0         201.0  44.2593 -18.0          14  Bundesliga  2014  \n",
       "15         96.0         196.0  36.1052 -16.0          15  Bundesliga  2014  \n",
       "16        138.0         185.0  33.5677 -25.0          16  Bundesliga  2014  \n",
       "17        229.0         232.0  43.0214 -11.0          17  Bundesliga  2014  \n",
       "18        147.0         233.0  36.1625 -34.0          18  Bundesliga  2014  \n",
       "\n",
       "[686 rows x 22 columns]"
      ],
      "text/html": "<div>\n<style scoped>\n    .dataframe tbody tr th:only-of-type {\n        vertical-align: middle;\n    }\n\n    .dataframe tbody tr th {\n        vertical-align: top;\n    }\n\n    .dataframe thead th {\n        text-align: right;\n    }\n</style>\n<table border=\"1\" class=\"dataframe\">\n  <thead>\n    <tr style=\"text-align: right;\">\n      <th></th>\n      <th>Team</th>\n      <th>matches</th>\n      <th>wins</th>\n      <th>draws</th>\n      <th>loses</th>\n      <th>scored</th>\n      <th>conceded</th>\n      <th>pts</th>\n      <th>xG</th>\n      <th>npxG</th>\n      <th>...</th>\n      <th>npxGD</th>\n      <th>ppda_coef</th>\n      <th>oppda_coef</th>\n      <th>deep</th>\n      <th>deep_allowed</th>\n      <th>xpts</th>\n      <th>GD</th>\n      <th>position.1</th>\n      <th>league</th>\n      <th>year</th>\n    </tr>\n    <tr>\n      <th>position</th>\n      <th></th>\n      <th></th>\n      <th></th>\n      <th></th>\n      <th></th>\n      <th></th>\n      <th></th>\n      <th></th>\n      <th></th>\n      <th></th>\n      <th></th>\n      <th></th>\n      <th></th>\n      <th></th>\n      <th></th>\n      <th></th>\n      <th></th>\n      <th></th>\n      <th></th>\n      <th></th>\n      <th></th>\n    </tr>\n  </thead>\n  <tbody>\n    <tr>\n      <th>1</th>\n      <td>Real Madrid</td>\n      <td>38</td>\n      <td>29.0</td>\n      <td>6.0</td>\n      <td>3.0</td>\n      <td>106.0</td>\n      <td>41.0</td>\n      <td>93.0</td>\n      <td>90.866410</td>\n      <td>84.920340</td>\n      <td>...</td>\n      <td>51.030512</td>\n      <td>9.742439</td>\n      <td>13.407533</td>\n      <td>333.0</td>\n      <td>173.0</td>\n      <td>86.1701</td>\n      <td>65.0</td>\n      <td>1</td>\n      <td>La_liga</td>\n      <td>2016</td>\n    </tr>\n    <tr>\n      <th>2</th>\n      <td>Barcelona</td>\n      <td>38</td>\n      <td>28.0</td>\n      <td>6.0</td>\n      <td>4.0</td>\n      <td>116.0</td>\n      <td>37.0</td>\n      <td>90.0</td>\n      <td>93.551594</td>\n      <td>86.862234</td>\n      <td>...</td>\n      <td>55.546571</td>\n      <td>6.702330</td>\n      <td>15.710111</td>\n      <td>552.0</td>\n      <td>144.0</td>\n      <td>87.9535</td>\n      <td>79.0</td>\n      <td>2</td>\n      <td>La_liga</td>\n      <td>2016</td>\n    </tr>\n    <tr>\n      <th>3</th>\n      <td>Atletico Madrid</td>\n      <td>38</td>\n      <td>23.0</td>\n      <td>9.0</td>\n      <td>6.0</td>\n      <td>70.0</td>\n      <td>27.0</td>\n      <td>78.0</td>\n      <td>60.658900</td>\n      <td>54.532810</td>\n      <td>...</td>\n      <td>26.169233</td>\n      <td>9.954444</td>\n      <td>8.828843</td>\n      <td>265.0</td>\n      <td>168.0</td>\n      <td>69.1021</td>\n      <td>43.0</td>\n      <td>3</td>\n      <td>La_liga</td>\n      <td>2016</td>\n    </tr>\n    <tr>\n      <th>4</th>\n      <td>Sevilla</td>\n      <td>38</td>\n      <td>21.0</td>\n      <td>9.0</td>\n      <td>8.0</td>\n      <td>69.0</td>\n      <td>49.0</td>\n      <td>72.0</td>\n      <td>59.094825</td>\n      <td>55.270584</td>\n      <td>...</td>\n      <td>20.400488</td>\n      <td>6.979835</td>\n      <td>10.788850</td>\n      <td>338.0</td>\n      <td>201.0</td>\n      <td>66.1788</td>\n      <td>20.0</td>\n      <td>4</td>\n      <td>La_liga</td>\n      <td>2016</td>\n    </tr>\n    <tr>\n      <th>5</th>\n      <td>Villarreal</td>\n      <td>38</td>\n      <td>19.0</td>\n      <td>10.0</td>\n      <td>9.0</td>\n      <td>56.0</td>\n      <td>33.0</td>\n      <td>67.0</td>\n      <td>52.228737</td>\n      <td>46.282513</td>\n      <td>...</td>\n      <td>7.577777</td>\n      <td>11.527583</td>\n      <td>10.592704</td>\n      <td>268.0</td>\n      <td>260.0</td>\n      <td>59.5719</td>\n      <td>23.0</td>\n      <td>5</td>\n      <td>La_liga</td>\n      <td>2016</td>\n    </tr>\n    <tr>\n      <th>...</th>\n      <td>...</td>\n      <td>...</td>\n      <td>...</td>\n      <td>...</td>\n      <td>...</td>\n      <td>...</td>\n      <td>...</td>\n      <td>...</td>\n      <td>...</td>\n      <td>...</td>\n      <td>...</td>\n      <td>...</td>\n      <td>...</td>\n      <td>...</td>\n      <td>...</td>\n      <td>...</td>\n      <td>...</td>\n      <td>...</td>\n      <td>...</td>\n      <td>...</td>\n      <td>...</td>\n    </tr>\n    <tr>\n      <th>14</th>\n      <td>VfB Stuttgart</td>\n      <td>34</td>\n      <td>9.0</td>\n      <td>9.0</td>\n      <td>16.0</td>\n      <td>42.0</td>\n      <td>60.0</td>\n      <td>36.0</td>\n      <td>45.639776</td>\n      <td>44.882003</td>\n      <td>...</td>\n      <td>-0.186879</td>\n      <td>10.032086</td>\n      <td>9.610372</td>\n      <td>143.0</td>\n      <td>201.0</td>\n      <td>44.2593</td>\n      <td>-18.0</td>\n      <td>14</td>\n      <td>Bundesliga</td>\n      <td>2014</td>\n    </tr>\n    <tr>\n      <th>15</th>\n      <td>Hertha Berlin</td>\n      <td>34</td>\n      <td>9.0</td>\n      <td>8.0</td>\n      <td>17.0</td>\n      <td>36.0</td>\n      <td>52.0</td>\n      <td>35.0</td>\n      <td>32.656432</td>\n      <td>29.625334</td>\n      <td>...</td>\n      <td>-14.299616</td>\n      <td>11.585389</td>\n      <td>6.815631</td>\n      <td>96.0</td>\n      <td>196.0</td>\n      <td>36.1052</td>\n      <td>-16.0</td>\n      <td>15</td>\n      <td>Bundesliga</td>\n      <td>2014</td>\n    </tr>\n    <tr>\n      <th>16</th>\n      <td>Hamburger SV</td>\n      <td>34</td>\n      <td>9.0</td>\n      <td>8.0</td>\n      <td>17.0</td>\n      <td>25.0</td>\n      <td>50.0</td>\n      <td>35.0</td>\n      <td>32.859179</td>\n      <td>30.585841</td>\n      <td>...</td>\n      <td>-19.181601</td>\n      <td>8.405638</td>\n      <td>7.317977</td>\n      <td>138.0</td>\n      <td>185.0</td>\n      <td>33.5677</td>\n      <td>-25.0</td>\n      <td>16</td>\n      <td>Bundesliga</td>\n      <td>2014</td>\n    </tr>\n    <tr>\n      <th>17</th>\n      <td>Freiburg</td>\n      <td>34</td>\n      <td>7.0</td>\n      <td>13.0</td>\n      <td>14.0</td>\n      <td>36.0</td>\n      <td>47.0</td>\n      <td>34.0</td>\n      <td>38.688021</td>\n      <td>31.868182</td>\n      <td>...</td>\n      <td>-12.526945</td>\n      <td>13.476949</td>\n      <td>8.307599</td>\n      <td>229.0</td>\n      <td>232.0</td>\n      <td>43.0214</td>\n      <td>-11.0</td>\n      <td>17</td>\n      <td>Bundesliga</td>\n      <td>2014</td>\n    </tr>\n    <tr>\n      <th>18</th>\n      <td>Paderborn</td>\n      <td>34</td>\n      <td>7.0</td>\n      <td>10.0</td>\n      <td>17.0</td>\n      <td>31.0</td>\n      <td>65.0</td>\n      <td>31.0</td>\n      <td>36.079765</td>\n      <td>35.321988</td>\n      <td>...</td>\n      <td>-15.144018</td>\n      <td>11.719608</td>\n      <td>6.643987</td>\n      <td>147.0</td>\n      <td>233.0</td>\n      <td>36.1625</td>\n      <td>-34.0</td>\n      <td>18</td>\n      <td>Bundesliga</td>\n      <td>2014</td>\n    </tr>\n  </tbody>\n</table>\n<p>686 rows × 22 columns</p>\n</div>"
     },
     "metadata": {},
     "execution_count": 29
    }
   ],
   "source": []
  },
  {
   "cell_type": "code",
   "execution_count": null,
   "metadata": {},
   "outputs": [],
   "source": []
  }
 ]
}