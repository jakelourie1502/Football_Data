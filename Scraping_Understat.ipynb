{
 "metadata": {
  "language_info": {
   "codemirror_mode": {
    "name": "ipython",
    "version": 3
   },
   "file_extension": ".py",
   "mimetype": "text/x-python",
   "name": "python",
   "nbconvert_exporter": "python",
   "pygments_lexer": "ipython3",
   "version": "3.8.5-final"
  },
  "orig_nbformat": 2,
  "kernelspec": {
   "name": "python385jvsc74a57bd03140f74d8e1d28421ccd34109d4bdb636d1200d25e7dadfa8785402db4096f74",
   "display_name": "Python 3.8.5 64-bit ('base': conda)"
  }
 },
 "nbformat": 4,
 "nbformat_minor": 2,
 "cells": [
  {
   "source": [
    "## UnderStat is a website detailing results and stats from top tier football matches\n",
    "\n",
    "The purpose of this notebook is to scrape Understat of all data related to final league positions and match statistics from the past 7 years for the top 5 leagues in world football"
   ],
   "cell_type": "markdown",
   "metadata": {}
  },
  {
   "cell_type": "code",
   "execution_count": 6,
   "metadata": {},
   "outputs": [],
   "source": [
    "#packages used\n",
    "import numpy as np\n",
    "import pandas as pd \n",
    "import requests \n",
    "from bs4 import BeautifulSoup as bs \n",
    "import ast \n",
    "import json\n",
    "from selenium import webdriver\n",
    "import time"
   ]
  },
  {
   "source": [
    "There are two methods we can use to get league positions. The first is to scrape the browser-shown data from each league as below\n"
   ],
   "cell_type": "markdown",
   "metadata": {}
  },
  {
   "cell_type": "code",
   "execution_count": 21,
   "metadata": {},
   "outputs": [
    {
     "output_type": "stream",
     "name": "stdout",
     "text": [
      "№ Team M W D L G GA PTS xG xGA xPTS\n1 Manchester City 38 32 2 4 95 23 98 93.72-1.28 25.73+2.73 90.64-7.36\n2 Liverpool 38 30 7 1 89 22 97 79.46-9.54 29.15+7.15 83.45-13.55\n3 Chelsea 38 21 9 8 63 39 72 63.97+0.97 38.11-0.89 71.45-0.55\n4 Tottenham 38 23 2 13 67 39 71 61.75-5.25 49.15+10.15 61.44-9.56\n5 Arsenal 38 21 7 10 73 51 70 64.80-8.20 57.30+6.30 58.97-11.03\n6 Manchester United 38 19 9 10 65 54 66 68.62+3.62 52.30-1.70 61.86-4.14\n7 Wolverhampton Wanderers 38 16 9 13 47 46 57 53.06+6.06 42.69-3.31 59.91+2.91\n8 Everton 38 15 9 14 54 46 54 53.87-0.13 49.31+3.31 55.54+1.54\n9 Leicester 38 15 7 16 51 48 52 52.11+1.11 44.64-3.36 56.24+4.24\n10 West Ham 38 15 7 16 52 55 52 47.96-4.04 65.66+10.66 43.72-8.28\n11 Watford 38 14 8 16 52 59 50 51.73-0.27 63.29+4.29 46.00-4.00\n12 Crystal Palace 38 14 7 17 51 53 49 50.64-0.36 52.80-0.20 51.93+2.93\n13 Newcastle United 38 12 9 17 42 48 45 39.91-2.09 57.55+9.55 39.22-5.78\n14 Bournemouth 38 13 6 19 56 70 45 58.81+2.81 62.42-7.58 51.49+6.49\n15 Burnley 38 11 7 20 45 68 40 44.74-0.26 66.12-1.88 42.00+2.00\n16 Southampton 38 9 12 17 45 65 39 49.67+4.67 59.27-5.73 45.11+6.11\n17 Brighton 38 9 9 20 35 60 36 37.03+2.03 62.46+2.46 36.19+0.19\n18 Cardiff 38 10 4 24 34 69 34 41.77+7.77 66.50-2.50 37.45+3.45\n19 Fulham 38 7 5 26 34 81 26 42.62+8.62 73.59-7.41 33.60+7.60\n20 Huddersfield 38 3 7 28 22 76 16 29.00+7.00 67.19-8.81 29.61+13.61\n"
     ]
    }
   ],
   "source": [
    "driver = webdriver.Chrome()\n",
    "sample_url = \"https://understat.com/league/EPL/2018\"\n",
    "\n",
    "driver.get(sample_url)\n",
    "time.sleep(5)\n",
    "#scrape the 'table'\n",
    "table_outline = driver.find_element_by_xpath('//div[contains(@id, \"league-chemp\")]')\n",
    "table = table_outline.find_element_by_tag_name('table')\n",
    "print(table.text)\n"
   ]
  },
  {
   "source": [
    "We could then split up each line (sep = '\\n') and each stat (sep = ' ') and iterate across all the leagues.\n",
    "\n",
    "However, because we want to also get the individual match stats we will not use this method, instead looking at the data behind the site in scrips"
   ],
   "cell_type": "markdown",
   "metadata": {}
  },
  {
   "cell_type": "code",
   "execution_count": null,
   "metadata": {},
   "outputs": [],
   "source": []
  }
 ]
}